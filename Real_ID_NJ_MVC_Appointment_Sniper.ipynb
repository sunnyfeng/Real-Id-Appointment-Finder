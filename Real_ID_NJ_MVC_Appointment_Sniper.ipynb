{
  "nbformat": 4,
  "nbformat_minor": 0,
  "metadata": {
    "colab": {
      "provenance": [],
      "toc_visible": true
    },
    "kernelspec": {
      "name": "python3",
      "display_name": "Python 3"
    },
    "language_info": {
      "name": "python"
    }
  },
  "cells": [
    {
      "cell_type": "markdown",
      "source": [
        "# Find Real ID Appointments in New Jersey\n",
        "\n",
        "`URL` and `real_id_section` variables can be changed to support different states"
      ],
      "metadata": {
        "id": "xyccrIx1Dhaz"
      }
    },
    {
      "cell_type": "markdown",
      "source": [
        "## Continuous Run\n",
        "Runs until an appointment is found, can run only one cell at a time"
      ],
      "metadata": {
        "id": "0yIZmCh-Jtdk"
      }
    },
    {
      "cell_type": "code",
      "source": [
        "# Find Real ID appointment - continuous run!\n",
        "\n",
        "import urllib.request\n",
        "import time\n",
        "\n",
        "# Assign the URL and text to find\n",
        "url = \"https://telegov.njportal.com/njmvc/AppointmentWizard\"\n",
        "real_id_section = \"REAL ID\\r\\n                                                                                </span>\\r\\n                                                                                <br />\\r\\n                                                                                <span class=\\\"text-black cardButtonCount\\\" style=\\\"display:block;padding-top:10px\\\">\\r\\n                                                                                    \"\n",
        "no_appointments = \"0 Appointments Available\"\n",
        "seconds_between_tries = 60 # 1 minute\n",
        "\n",
        "while True:\n",
        "  # Open, read the the HTML, and convert bytes to string\n",
        "  text = urllib.request.urlopen(url).read().decode(\"utf-8\")\n",
        "\n",
        "  # -1 if the \"0 appointments available\" text is not present\n",
        "  index = text.find(real_id_section + no_appointments)\n",
        "\n",
        "  if (index == -1):\n",
        "    print(\"Appointments available!\")\n",
        "    # Print the Real ID number of appointments\n",
        "    appointment_index = text.find(real_id_section)\n",
        "    print(text[appointment_index+len(real_id_section): appointment_index+len(real_id_section) + 100])\n",
        "    # Stop while loop when an appointment is found!\n",
        "    break\n",
        "  else:\n",
        "    print(\"Still no appointments\")\n",
        "    # Print the Real ID number of appointments\n",
        "    appointment_index = text.find(real_id_section)\n",
        "    print(text[appointment_index+len(real_id_section): appointment_index+len(real_id_section) + 100])\n",
        "  # Wait before trying again\n",
        "  time.sleep(seconds_between_tries)\n",
        "\n"
      ],
      "metadata": {
        "colab": {
          "base_uri": "https://localhost:8080/"
        },
        "outputId": "4992b704-8301-4c0b-a9a1-eebe27c6db20",
        "id": "PpNsyjreIn6C"
      },
      "execution_count": 28,
      "outputs": [
        {
          "output_type": "stream",
          "name": "stdout",
          "text": [
            "Appointments available!\n",
            "1 Appointments Available\r\n",
            "                                                                          \n"
          ]
        }
      ]
    },
    {
      "cell_type": "code",
      "source": [
        "# Find Real ID Mobile appointment - continuous run!\n",
        "\n",
        "import urllib.request\n",
        "import time\n",
        "\n",
        "# Assign the URL and text to find\n",
        "url = \"https://telegov.njportal.com/njmvcmobileunit/AppointmentWizard\"\n",
        "real_id_section = \"REAL ID - MOBILE\\r\\n                                                                                </span>\\r\\n                                                                                <br />\\r\\n                                                                                <span class=\\\"text-black cardButtonCount\\\" style=\\\"display:block;padding-top:10px\\\">\\r\\n                                                                                    \";\n",
        "no_appointments = \"0 Appointments Available\"\n",
        "seconds_between_tries = 60 # 1 minute\n",
        "\n",
        "while True:\n",
        "  # Open, read the the HTML, and convert bytes to string\n",
        "  text = urllib.request.urlopen(url).read().decode(\"utf-8\")\n",
        "\n",
        "  # -1 if the \"0 appointments available\" text is not present\n",
        "  index = text.find(real_id_section + no_appointments)\n",
        "\n",
        "  if (index == -1):\n",
        "    print(\"Appointments available!\")\n",
        "    # Print the Real ID number of appointments\n",
        "    appointment_index = text.find(real_id_section)\n",
        "    print(text[appointment_index+len(real_id_section): appointment_index+len(real_id_section) + 100])\n",
        "    # Stop while loop when an appointment is found!\n",
        "    break\n",
        "  else:\n",
        "    print(\"Still no appointments\")\n",
        "    # Print the Real ID number of appointments\n",
        "    appointment_index = text.find(real_id_section)\n",
        "    print(text[appointment_index+len(real_id_section): appointment_index+len(real_id_section) + 100])\n",
        "  # Wait before trying again\n",
        "  time.sleep(seconds_between_tries)\n",
        "\n"
      ],
      "metadata": {
        "id": "AbuFFEjcKLGO"
      },
      "execution_count": null,
      "outputs": []
    },
    {
      "cell_type": "markdown",
      "source": [
        "## Single Run\n",
        "Runs once, retries are manual"
      ],
      "metadata": {
        "id": "CwG-56QHJmrc"
      }
    },
    {
      "cell_type": "code",
      "source": [
        "# Find Real ID appointment - single run\n",
        "\n",
        "import urllib.request\n",
        "\n",
        "# Assign the URL and text to find\n",
        "url = \"https://telegov.njportal.com/njmvc/AppointmentWizard\"\n",
        "real_id_section = \"REAL ID\\r\\n                                                                                </span>\\r\\n                                                                                <br />\\r\\n                                                                                <span class=\\\"text-black cardButtonCount\\\" style=\\\"display:block;padding-top:10px\\\">\\r\\n                                                                                    \"\n",
        "no_appointments = \"0 Appointments Available\"\n",
        "\n",
        "# Open, read the the HTML, and convert bytes to string\n",
        "text = urllib.request.urlopen(url).read().decode(\"utf-8\")\n",
        "\n",
        "# -1 if the \"0 appointments available\" text is not present\n",
        "index = text.find(real_id_section + no_appointments)\n",
        "\n",
        "if (index == -1):\n",
        "  print(\"Appointments available!\")\n",
        "else:\n",
        "  print(\"Still no appointments\")\n",
        "\n",
        "# Print the Real ID number of appointments\n",
        "appointment_index = text.find(real_id_section)\n",
        "print(text[appointment_index+len(real_id_section): appointment_index+len(real_id_section) + 100])\n",
        "\n"
      ],
      "metadata": {
        "colab": {
          "base_uri": "https://localhost:8080/"
        },
        "id": "H7ovO8nLB6jW",
        "outputId": "1adc390a-b995-487f-9b35-aa49b28ee649"
      },
      "execution_count": 22,
      "outputs": [
        {
          "output_type": "stream",
          "name": "stdout",
          "text": [
            "Still no appointments\n",
            "0 Appointments Available\r\n",
            "                                                                          \n"
          ]
        }
      ]
    },
    {
      "cell_type": "code",
      "source": [
        "# Find Mobile Real ID appointment - single run\n",
        "\n",
        "import urllib.request\n",
        "\n",
        "# Assign the URL and text to find\n",
        "url = \"https://telegov.njportal.com/njmvcmobileunit/AppointmentWizard\"\n",
        "real_id_section = \"REAL ID - MOBILE\\r\\n                                                                                </span>\\r\\n                                                                                <br />\\r\\n                                                                                <span class=\\\"text-black cardButtonCount\\\" style=\\\"display:block;padding-top:10px\\\">\\r\\n                                                                                    \";\n",
        "no_appointments = \"0 Appointments Available\"\n",
        "\n",
        "# Open, read the the HTML, and convert bytes to string\n",
        "text = urllib.request.urlopen(url).read().decode(\"utf-8\")\n",
        "\n",
        "# -1 if the \"0 appointments available\" text is not present\n",
        "index = text.find(real_id_section + no_appointments)\n",
        "\n",
        "if (index == -1):\n",
        "  print(\"Appointments available!\")\n",
        "else:\n",
        "  print(\"Still no appointments\")\n",
        "\n",
        "# Print the Real ID number of appointments\n",
        "appointment_index = text.find(real_id_section)\n",
        "print(text[appointment_index+len(real_id_section): appointment_index+len(real_id_section) + 100])\n"
      ],
      "metadata": {
        "id": "0IUjK-K-DUNA",
        "colab": {
          "base_uri": "https://localhost:8080/"
        },
        "outputId": "069f08c4-2d9f-4a78-c284-f44fdd9739c6"
      },
      "execution_count": 23,
      "outputs": [
        {
          "output_type": "stream",
          "name": "stdout",
          "text": [
            "Still no appointments\n",
            "0 Appointments Available\r\n",
            "                                                                          \n"
          ]
        }
      ]
    }
  ]
}